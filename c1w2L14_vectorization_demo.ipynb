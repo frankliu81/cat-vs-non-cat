{
 "cells": [
  {
   "cell_type": "code",
   "execution_count": 14,
   "id": "c22e84d5",
   "metadata": {},
   "outputs": [
    {
     "name": "stdout",
     "output_type": "stream",
     "text": [
      "[1 2 3 4]\n"
     ]
    }
   ],
   "source": [
    "# shift enter to execute\n",
    "import numpy as np\n",
    "a = np.array([1,2,3,4])\n",
    "print(a) "
   ]
  },
  {
   "cell_type": "code",
   "execution_count": 19,
   "id": "ea5e787a",
   "metadata": {},
   "outputs": [
    {
     "name": "stdout",
     "output_type": "stream",
     "text": [
      "Vectorizaied version:0.6778240203857422ms\n",
      "250201.369819434\n",
      "For loop:344.98095512390137ms\n",
      "250201.36981943517\n"
     ]
    }
   ],
   "source": [
    "import time\n",
    "a = np.random.rand(1000000)\n",
    "b = np.random.rand(1000000)\n",
    "tic = time.time()\n",
    "c = np.dot(a,b)\n",
    "toc = time.time()\n",
    "print(\"Vectorizaied version:\" + str(1000*(toc-tic)) + \"ms\")\n",
    "print(c)\n",
    "\n",
    "c=0\n",
    "tic=time.time()\n",
    "for i in range(1000000):\n",
    "     c += a[i]*b[i]\n",
    "toc = time.time()\n",
    "print(\"For loop:\" +str(1000*(toc-tic)) + \"ms\")\n",
    "print(c)"
   ]
  },
  {
   "cell_type": "code",
   "execution_count": null,
   "id": "724ef49d",
   "metadata": {},
   "outputs": [],
   "source": []
  }
 ],
 "metadata": {
  "kernelspec": {
   "display_name": "Python 3 (ipykernel)",
   "language": "python",
   "name": "python3"
  },
  "language_info": {
   "codemirror_mode": {
    "name": "ipython",
    "version": 3
   },
   "file_extension": ".py",
   "mimetype": "text/x-python",
   "name": "python",
   "nbconvert_exporter": "python",
   "pygments_lexer": "ipython3",
   "version": "3.9.9"
  }
 },
 "nbformat": 4,
 "nbformat_minor": 5
}
